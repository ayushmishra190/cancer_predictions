{
 "cells": [
  {
   "cell_type": "code",
   "execution_count": 231,
   "metadata": {},
   "outputs": [],
   "source": [
    "import pandas as pd\n",
    "import numpy as np\n",
    "import seaborn as sns\n",
    "import sklearn "
   ]
  },
  {
   "cell_type": "code",
   "execution_count": 232,
   "metadata": {},
   "outputs": [],
   "source": [
    "df_train=pd.read_csv(r'C:\\Users\\acer\\Downloads\\5959806800cb11ec\\dataset/train.csv')"
   ]
  },
  {
   "cell_type": "code",
   "execution_count": 233,
   "metadata": {},
   "outputs": [],
   "source": [
    "df_test=pd.read_csv(r'C:\\Users\\acer\\Downloads\\5959806800cb11ec\\dataset/test.csv')"
   ]
  },
  {
   "cell_type": "code",
   "execution_count": 234,
   "metadata": {},
   "outputs": [
    {
     "data": {
      "text/plain": [
       "(2952, 70)"
      ]
     },
     "execution_count": 234,
     "metadata": {},
     "output_type": "execute_result"
    }
   ],
   "source": [
    "df_train.shape"
   ]
  },
  {
   "cell_type": "code",
   "execution_count": 235,
   "metadata": {},
   "outputs": [
    {
     "data": {
      "text/html": [
       "<div>\n",
       "<style scoped>\n",
       "    .dataframe tbody tr th:only-of-type {\n",
       "        vertical-align: middle;\n",
       "    }\n",
       "\n",
       "    .dataframe tbody tr th {\n",
       "        vertical-align: top;\n",
       "    }\n",
       "\n",
       "    .dataframe thead th {\n",
       "        text-align: right;\n",
       "    }\n",
       "</style>\n",
       "<table border=\"1\" class=\"dataframe\">\n",
       "  <thead>\n",
       "    <tr style=\"text-align: right;\">\n",
       "      <th></th>\n",
       "      <th>patient_id</th>\n",
       "      <th>tumor_cell_count</th>\n",
       "      <th>gender</th>\n",
       "      <th>age_group</th>\n",
       "      <th>race</th>\n",
       "      <th>year_of_diagnosis</th>\n",
       "      <th>morphology_code</th>\n",
       "      <th>year_of_death</th>\n",
       "      <th>smoke_units</th>\n",
       "      <th>area_code</th>\n",
       "      <th>...</th>\n",
       "      <th>symptom58</th>\n",
       "      <th>symptom59</th>\n",
       "      <th>symptom60</th>\n",
       "      <th>symptom61</th>\n",
       "      <th>symptom62</th>\n",
       "      <th>symptom63</th>\n",
       "      <th>symptom64</th>\n",
       "      <th>symptom65</th>\n",
       "      <th>symptom66</th>\n",
       "      <th>death_due_to_cancer</th>\n",
       "    </tr>\n",
       "  </thead>\n",
       "  <tbody>\n",
       "    <tr>\n",
       "      <th>0</th>\n",
       "      <td>TCBA-B8-0x204</td>\n",
       "      <td>7</td>\n",
       "      <td>Male</td>\n",
       "      <td>60-64</td>\n",
       "      <td>NaN</td>\n",
       "      <td>2010</td>\n",
       "      <td>81403</td>\n",
       "      <td>2016.0</td>\n",
       "      <td>34</td>\n",
       "      <td>2</td>\n",
       "      <td>...</td>\n",
       "      <td>0.0</td>\n",
       "      <td>0.0</td>\n",
       "      <td>0.0</td>\n",
       "      <td>0.0</td>\n",
       "      <td>0.0</td>\n",
       "      <td>0.0</td>\n",
       "      <td>0.0</td>\n",
       "      <td>0.0</td>\n",
       "      <td>0.0</td>\n",
       "      <td>1</td>\n",
       "    </tr>\n",
       "    <tr>\n",
       "      <th>1</th>\n",
       "      <td>TCBA-B8-0x1063</td>\n",
       "      <td>1</td>\n",
       "      <td>Male</td>\n",
       "      <td>85-89</td>\n",
       "      <td>White</td>\n",
       "      <td>2012</td>\n",
       "      <td>80463</td>\n",
       "      <td>2016.0</td>\n",
       "      <td>4</td>\n",
       "      <td>7</td>\n",
       "      <td>...</td>\n",
       "      <td>0.0</td>\n",
       "      <td>0.0</td>\n",
       "      <td>0.0</td>\n",
       "      <td>0.0</td>\n",
       "      <td>0.0</td>\n",
       "      <td>0.0</td>\n",
       "      <td>0.0</td>\n",
       "      <td>0.0</td>\n",
       "      <td>0.0</td>\n",
       "      <td>1</td>\n",
       "    </tr>\n",
       "    <tr>\n",
       "      <th>2</th>\n",
       "      <td>TCBA-B8-0xb7d</td>\n",
       "      <td>1</td>\n",
       "      <td>Female</td>\n",
       "      <td>70-74</td>\n",
       "      <td>White</td>\n",
       "      <td>2013</td>\n",
       "      <td>80103</td>\n",
       "      <td>2018.0</td>\n",
       "      <td>20</td>\n",
       "      <td>1</td>\n",
       "      <td>...</td>\n",
       "      <td>0.0</td>\n",
       "      <td>0.0</td>\n",
       "      <td>0.0</td>\n",
       "      <td>0.0</td>\n",
       "      <td>0.0</td>\n",
       "      <td>0.0</td>\n",
       "      <td>0.0</td>\n",
       "      <td>0.0</td>\n",
       "      <td>0.0</td>\n",
       "      <td>1</td>\n",
       "    </tr>\n",
       "    <tr>\n",
       "      <th>3</th>\n",
       "      <td>TCBA-B8-0xfa7</td>\n",
       "      <td>104</td>\n",
       "      <td>Female</td>\n",
       "      <td>65-69</td>\n",
       "      <td>White</td>\n",
       "      <td>2013</td>\n",
       "      <td>80463</td>\n",
       "      <td>2018.0</td>\n",
       "      <td>20</td>\n",
       "      <td>5</td>\n",
       "      <td>...</td>\n",
       "      <td>0.0</td>\n",
       "      <td>0.0</td>\n",
       "      <td>0.0</td>\n",
       "      <td>0.0</td>\n",
       "      <td>0.0</td>\n",
       "      <td>0.0</td>\n",
       "      <td>0.0</td>\n",
       "      <td>0.0</td>\n",
       "      <td>0.0</td>\n",
       "      <td>1</td>\n",
       "    </tr>\n",
       "    <tr>\n",
       "      <th>4</th>\n",
       "      <td>TCBA-B8-0xdc</td>\n",
       "      <td>21</td>\n",
       "      <td>Male</td>\n",
       "      <td>50-54</td>\n",
       "      <td>White</td>\n",
       "      <td>2010</td>\n",
       "      <td>80463</td>\n",
       "      <td>2016.0</td>\n",
       "      <td>20</td>\n",
       "      <td>5</td>\n",
       "      <td>...</td>\n",
       "      <td>0.0</td>\n",
       "      <td>0.0</td>\n",
       "      <td>0.0</td>\n",
       "      <td>0.0</td>\n",
       "      <td>0.0</td>\n",
       "      <td>0.0</td>\n",
       "      <td>0.0</td>\n",
       "      <td>0.0</td>\n",
       "      <td>0.0</td>\n",
       "      <td>1</td>\n",
       "    </tr>\n",
       "    <tr>\n",
       "      <th>...</th>\n",
       "      <td>...</td>\n",
       "      <td>...</td>\n",
       "      <td>...</td>\n",
       "      <td>...</td>\n",
       "      <td>...</td>\n",
       "      <td>...</td>\n",
       "      <td>...</td>\n",
       "      <td>...</td>\n",
       "      <td>...</td>\n",
       "      <td>...</td>\n",
       "      <td>...</td>\n",
       "      <td>...</td>\n",
       "      <td>...</td>\n",
       "      <td>...</td>\n",
       "      <td>...</td>\n",
       "      <td>...</td>\n",
       "      <td>...</td>\n",
       "      <td>...</td>\n",
       "      <td>...</td>\n",
       "      <td>...</td>\n",
       "      <td>...</td>\n",
       "    </tr>\n",
       "    <tr>\n",
       "      <th>2947</th>\n",
       "      <td>TCBA-B8-0xb4f</td>\n",
       "      <td>1</td>\n",
       "      <td>Female</td>\n",
       "      <td>80-84</td>\n",
       "      <td>White</td>\n",
       "      <td>2013</td>\n",
       "      <td>80003</td>\n",
       "      <td>2019.0</td>\n",
       "      <td>8</td>\n",
       "      <td>7</td>\n",
       "      <td>...</td>\n",
       "      <td>0.0</td>\n",
       "      <td>0.0</td>\n",
       "      <td>1.0</td>\n",
       "      <td>0.0</td>\n",
       "      <td>0.0</td>\n",
       "      <td>0.0</td>\n",
       "      <td>0.0</td>\n",
       "      <td>0.0</td>\n",
       "      <td>0.0</td>\n",
       "      <td>1</td>\n",
       "    </tr>\n",
       "    <tr>\n",
       "      <th>2948</th>\n",
       "      <td>TCBA-B8-0xacb</td>\n",
       "      <td>1</td>\n",
       "      <td>Female</td>\n",
       "      <td>NaN</td>\n",
       "      <td>White</td>\n",
       "      <td>2009</td>\n",
       "      <td>82463</td>\n",
       "      <td>NaN</td>\n",
       "      <td>4</td>\n",
       "      <td>8</td>\n",
       "      <td>...</td>\n",
       "      <td>0.0</td>\n",
       "      <td>0.0</td>\n",
       "      <td>0.0</td>\n",
       "      <td>0.0</td>\n",
       "      <td>0.0</td>\n",
       "      <td>0.0</td>\n",
       "      <td>0.0</td>\n",
       "      <td>0.0</td>\n",
       "      <td>0.0</td>\n",
       "      <td>0</td>\n",
       "    </tr>\n",
       "    <tr>\n",
       "      <th>2949</th>\n",
       "      <td>TCBA-B8-0x389</td>\n",
       "      <td>1</td>\n",
       "      <td>Male</td>\n",
       "      <td>75-79</td>\n",
       "      <td>White</td>\n",
       "      <td>2011</td>\n",
       "      <td>88003</td>\n",
       "      <td>2016.0</td>\n",
       "      <td>20</td>\n",
       "      <td>1</td>\n",
       "      <td>...</td>\n",
       "      <td>0.0</td>\n",
       "      <td>0.0</td>\n",
       "      <td>0.0</td>\n",
       "      <td>0.0</td>\n",
       "      <td>0.0</td>\n",
       "      <td>0.0</td>\n",
       "      <td>0.0</td>\n",
       "      <td>0.0</td>\n",
       "      <td>0.0</td>\n",
       "      <td>0</td>\n",
       "    </tr>\n",
       "    <tr>\n",
       "      <th>2950</th>\n",
       "      <td>TCBA-B8-0xf8c</td>\n",
       "      <td>1</td>\n",
       "      <td>Female</td>\n",
       "      <td>65-69</td>\n",
       "      <td>White</td>\n",
       "      <td>2009</td>\n",
       "      <td>80463</td>\n",
       "      <td>2016.0</td>\n",
       "      <td>20</td>\n",
       "      <td>3</td>\n",
       "      <td>...</td>\n",
       "      <td>0.0</td>\n",
       "      <td>0.0</td>\n",
       "      <td>0.0</td>\n",
       "      <td>0.0</td>\n",
       "      <td>0.0</td>\n",
       "      <td>0.0</td>\n",
       "      <td>0.0</td>\n",
       "      <td>0.0</td>\n",
       "      <td>0.0</td>\n",
       "      <td>1</td>\n",
       "    </tr>\n",
       "    <tr>\n",
       "      <th>2951</th>\n",
       "      <td>TCBA-B8-0xeb</td>\n",
       "      <td>1</td>\n",
       "      <td>Male</td>\n",
       "      <td>70-74</td>\n",
       "      <td>White</td>\n",
       "      <td>2012</td>\n",
       "      <td>80103</td>\n",
       "      <td>2017.0</td>\n",
       "      <td>15</td>\n",
       "      <td>3</td>\n",
       "      <td>...</td>\n",
       "      <td>0.0</td>\n",
       "      <td>1.0</td>\n",
       "      <td>0.0</td>\n",
       "      <td>0.0</td>\n",
       "      <td>0.0</td>\n",
       "      <td>0.0</td>\n",
       "      <td>0.0</td>\n",
       "      <td>0.0</td>\n",
       "      <td>0.0</td>\n",
       "      <td>1</td>\n",
       "    </tr>\n",
       "  </tbody>\n",
       "</table>\n",
       "<p>2952 rows × 70 columns</p>\n",
       "</div>"
      ],
      "text/plain": [
       "          patient_id  tumor_cell_count  gender age_group   race  \\\n",
       "0      TCBA-B8-0x204                 7    Male     60-64    NaN   \n",
       "1     TCBA-B8-0x1063                 1    Male     85-89  White   \n",
       "2      TCBA-B8-0xb7d                 1  Female     70-74  White   \n",
       "3      TCBA-B8-0xfa7               104  Female     65-69  White   \n",
       "4       TCBA-B8-0xdc                21    Male     50-54  White   \n",
       "...              ...               ...     ...       ...    ...   \n",
       "2947   TCBA-B8-0xb4f                 1  Female     80-84  White   \n",
       "2948   TCBA-B8-0xacb                 1  Female       NaN  White   \n",
       "2949   TCBA-B8-0x389                 1    Male     75-79  White   \n",
       "2950   TCBA-B8-0xf8c                 1  Female     65-69  White   \n",
       "2951    TCBA-B8-0xeb                 1    Male     70-74  White   \n",
       "\n",
       "      year_of_diagnosis  morphology_code  year_of_death  smoke_units  \\\n",
       "0                  2010            81403         2016.0           34   \n",
       "1                  2012            80463         2016.0            4   \n",
       "2                  2013            80103         2018.0           20   \n",
       "3                  2013            80463         2018.0           20   \n",
       "4                  2010            80463         2016.0           20   \n",
       "...                 ...              ...            ...          ...   \n",
       "2947               2013            80003         2019.0            8   \n",
       "2948               2009            82463            NaN            4   \n",
       "2949               2011            88003         2016.0           20   \n",
       "2950               2009            80463         2016.0           20   \n",
       "2951               2012            80103         2017.0           15   \n",
       "\n",
       "      area_code  ...  symptom58 symptom59  symptom60  symptom61  symptom62  \\\n",
       "0             2  ...        0.0       0.0        0.0        0.0        0.0   \n",
       "1             7  ...        0.0       0.0        0.0        0.0        0.0   \n",
       "2             1  ...        0.0       0.0        0.0        0.0        0.0   \n",
       "3             5  ...        0.0       0.0        0.0        0.0        0.0   \n",
       "4             5  ...        0.0       0.0        0.0        0.0        0.0   \n",
       "...         ...  ...        ...       ...        ...        ...        ...   \n",
       "2947          7  ...        0.0       0.0        1.0        0.0        0.0   \n",
       "2948          8  ...        0.0       0.0        0.0        0.0        0.0   \n",
       "2949          1  ...        0.0       0.0        0.0        0.0        0.0   \n",
       "2950          3  ...        0.0       0.0        0.0        0.0        0.0   \n",
       "2951          3  ...        0.0       1.0        0.0        0.0        0.0   \n",
       "\n",
       "      symptom63  symptom64  symptom65  symptom66  death_due_to_cancer  \n",
       "0           0.0        0.0        0.0        0.0                    1  \n",
       "1           0.0        0.0        0.0        0.0                    1  \n",
       "2           0.0        0.0        0.0        0.0                    1  \n",
       "3           0.0        0.0        0.0        0.0                    1  \n",
       "4           0.0        0.0        0.0        0.0                    1  \n",
       "...         ...        ...        ...        ...                  ...  \n",
       "2947        0.0        0.0        0.0        0.0                    1  \n",
       "2948        0.0        0.0        0.0        0.0                    0  \n",
       "2949        0.0        0.0        0.0        0.0                    0  \n",
       "2950        0.0        0.0        0.0        0.0                    1  \n",
       "2951        0.0        0.0        0.0        0.0                    1  \n",
       "\n",
       "[2952 rows x 70 columns]"
      ]
     },
     "execution_count": 235,
     "metadata": {},
     "output_type": "execute_result"
    }
   ],
   "source": [
    "df_train"
   ]
  },
  {
   "cell_type": "code",
   "execution_count": 236,
   "metadata": {},
   "outputs": [
    {
     "data": {
      "text/plain": [
       "(1969, 69)"
      ]
     },
     "execution_count": 236,
     "metadata": {},
     "output_type": "execute_result"
    }
   ],
   "source": [
    "df_test.shape"
   ]
  },
  {
   "cell_type": "code",
   "execution_count": 237,
   "metadata": {},
   "outputs": [
    {
     "data": {
      "text/plain": [
       "patient_id               0\n",
       "tumor_cell_count         0\n",
       "gender                   0\n",
       "age_group               25\n",
       "race                   303\n",
       "                      ... \n",
       "symptom63                0\n",
       "symptom64                0\n",
       "symptom65                0\n",
       "symptom66                0\n",
       "death_due_to_cancer      0\n",
       "Length: 70, dtype: int64"
      ]
     },
     "execution_count": 237,
     "metadata": {},
     "output_type": "execute_result"
    }
   ],
   "source": [
    "df_train.isnull().sum()"
   ]
  },
  {
   "cell_type": "code",
   "execution_count": 238,
   "metadata": {},
   "outputs": [],
   "source": [
    "df_train.drop(['race','age_group','area_code'],axis=1,inplace=True)"
   ]
  },
  {
   "cell_type": "code",
   "execution_count": 239,
   "metadata": {},
   "outputs": [],
   "source": [
    "df_test.drop(['race','age_group','area_code'],axis=1,inplace=True)"
   ]
  },
  {
   "cell_type": "code",
   "execution_count": 240,
   "metadata": {},
   "outputs": [
    {
     "data": {
      "text/plain": [
       "patient_id             0\n",
       "tumor_cell_count       0\n",
       "gender                 0\n",
       "year_of_diagnosis      0\n",
       "morphology_code        0\n",
       "                      ..\n",
       "symptom63              0\n",
       "symptom64              0\n",
       "symptom65              0\n",
       "symptom66              0\n",
       "death_due_to_cancer    0\n",
       "Length: 67, dtype: int64"
      ]
     },
     "execution_count": 240,
     "metadata": {},
     "output_type": "execute_result"
    }
   ],
   "source": [
    "df_train.isnull().sum()"
   ]
  },
  {
   "cell_type": "code",
   "execution_count": 241,
   "metadata": {},
   "outputs": [],
   "source": [
    "df_train['diag_years']=df_train['year_of_death']-df_train['year_of_diagnosis']"
   ]
  },
  {
   "cell_type": "code",
   "execution_count": 242,
   "metadata": {},
   "outputs": [],
   "source": [
    "df_test['diag_years']=df_test['year_of_death']-df_test['year_of_diagnosis']"
   ]
  },
  {
   "cell_type": "code",
   "execution_count": 243,
   "metadata": {},
   "outputs": [],
   "source": [
    "df_train['diag_years'].fillna(df_train['diag_years'].median(),inplace=True)"
   ]
  },
  {
   "cell_type": "code",
   "execution_count": 244,
   "metadata": {},
   "outputs": [],
   "source": [
    "df_test['diag_years'].fillna(df_test['diag_years'].median(),inplace=True)"
   ]
  },
  {
   "cell_type": "code",
   "execution_count": 245,
   "metadata": {},
   "outputs": [
    {
     "data": {
      "text/plain": [
       "0"
      ]
     },
     "execution_count": 245,
     "metadata": {},
     "output_type": "execute_result"
    }
   ],
   "source": [
    "df_train.diag_years.isnull().sum()"
   ]
  },
  {
   "cell_type": "code",
   "execution_count": 246,
   "metadata": {},
   "outputs": [],
   "source": [
    "df_train.drop(['year_of_death'],axis=1,inplace=True)"
   ]
  },
  {
   "cell_type": "code",
   "execution_count": 247,
   "metadata": {},
   "outputs": [],
   "source": [
    "df_test.drop(['year_of_death'],axis=1,inplace=True)"
   ]
  },
  {
   "cell_type": "code",
   "execution_count": 248,
   "metadata": {},
   "outputs": [
    {
     "data": {
      "text/plain": [
       "patient_id             0\n",
       "tumor_cell_count       0\n",
       "gender                 0\n",
       "year_of_diagnosis      0\n",
       "morphology_code        0\n",
       "                      ..\n",
       "symptom64              0\n",
       "symptom65              0\n",
       "symptom66              0\n",
       "death_due_to_cancer    0\n",
       "diag_years             0\n",
       "Length: 67, dtype: int64"
      ]
     },
     "execution_count": 248,
     "metadata": {},
     "output_type": "execute_result"
    }
   ],
   "source": [
    "df_train.isnull().sum()"
   ]
  },
  {
   "cell_type": "code",
   "execution_count": 249,
   "metadata": {},
   "outputs": [
    {
     "data": {
      "text/plain": [
       "patient_id           0\n",
       "tumor_cell_count     0\n",
       "gender               0\n",
       "year_of_diagnosis    0\n",
       "morphology_code      0\n",
       "                    ..\n",
       "symptom63            1\n",
       "symptom64            1\n",
       "symptom65            1\n",
       "symptom66            1\n",
       "diag_years           0\n",
       "Length: 66, dtype: int64"
      ]
     },
     "execution_count": 249,
     "metadata": {},
     "output_type": "execute_result"
    }
   ],
   "source": [
    "df_test.isnull().sum()"
   ]
  },
  {
   "cell_type": "code",
   "execution_count": 250,
   "metadata": {},
   "outputs": [
    {
     "data": {
      "text/html": [
       "<div>\n",
       "<style scoped>\n",
       "    .dataframe tbody tr th:only-of-type {\n",
       "        vertical-align: middle;\n",
       "    }\n",
       "\n",
       "    .dataframe tbody tr th {\n",
       "        vertical-align: top;\n",
       "    }\n",
       "\n",
       "    .dataframe thead th {\n",
       "        text-align: right;\n",
       "    }\n",
       "</style>\n",
       "<table border=\"1\" class=\"dataframe\">\n",
       "  <thead>\n",
       "    <tr style=\"text-align: right;\">\n",
       "      <th></th>\n",
       "      <th>tumor_cell_count</th>\n",
       "      <th>year_of_diagnosis</th>\n",
       "      <th>morphology_code</th>\n",
       "      <th>smoke_units</th>\n",
       "      <th>alcohol_consume_units</th>\n",
       "      <th>symptom1</th>\n",
       "      <th>symptom2</th>\n",
       "      <th>symptom3</th>\n",
       "      <th>symptom4</th>\n",
       "      <th>symptom5</th>\n",
       "      <th>...</th>\n",
       "      <th>symptom59</th>\n",
       "      <th>symptom60</th>\n",
       "      <th>symptom61</th>\n",
       "      <th>symptom62</th>\n",
       "      <th>symptom63</th>\n",
       "      <th>symptom64</th>\n",
       "      <th>symptom65</th>\n",
       "      <th>symptom66</th>\n",
       "      <th>death_due_to_cancer</th>\n",
       "      <th>diag_years</th>\n",
       "    </tr>\n",
       "  </thead>\n",
       "  <tbody>\n",
       "    <tr>\n",
       "      <th>count</th>\n",
       "      <td>2952.000000</td>\n",
       "      <td>2952.000000</td>\n",
       "      <td>2952.000000</td>\n",
       "      <td>2952.000000</td>\n",
       "      <td>2952.000000</td>\n",
       "      <td>2952.000000</td>\n",
       "      <td>2952.000000</td>\n",
       "      <td>2952.000000</td>\n",
       "      <td>2952.000000</td>\n",
       "      <td>2952.000000</td>\n",
       "      <td>...</td>\n",
       "      <td>2952.000000</td>\n",
       "      <td>2952.000000</td>\n",
       "      <td>2952.000000</td>\n",
       "      <td>2952.000000</td>\n",
       "      <td>2952.000000</td>\n",
       "      <td>2952.000000</td>\n",
       "      <td>2952.000000</td>\n",
       "      <td>2952.000000</td>\n",
       "      <td>2952.000000</td>\n",
       "      <td>2952.000000</td>\n",
       "    </tr>\n",
       "    <tr>\n",
       "      <th>mean</th>\n",
       "      <td>8.036924</td>\n",
       "      <td>2010.925136</td>\n",
       "      <td>80940.815718</td>\n",
       "      <td>14.992209</td>\n",
       "      <td>3.258469</td>\n",
       "      <td>0.139566</td>\n",
       "      <td>0.021341</td>\n",
       "      <td>0.021680</td>\n",
       "      <td>0.131436</td>\n",
       "      <td>0.047425</td>\n",
       "      <td>...</td>\n",
       "      <td>0.026423</td>\n",
       "      <td>0.026084</td>\n",
       "      <td>0.023713</td>\n",
       "      <td>0.019986</td>\n",
       "      <td>0.020325</td>\n",
       "      <td>0.019648</td>\n",
       "      <td>0.019986</td>\n",
       "      <td>0.024729</td>\n",
       "      <td>0.699526</td>\n",
       "      <td>5.882453</td>\n",
       "    </tr>\n",
       "    <tr>\n",
       "      <th>std</th>\n",
       "      <td>24.840630</td>\n",
       "      <td>1.402237</td>\n",
       "      <td>1357.411378</td>\n",
       "      <td>7.926741</td>\n",
       "      <td>2.372024</td>\n",
       "      <td>0.346595</td>\n",
       "      <td>0.144544</td>\n",
       "      <td>0.145662</td>\n",
       "      <td>0.337934</td>\n",
       "      <td>0.212583</td>\n",
       "      <td>...</td>\n",
       "      <td>0.160416</td>\n",
       "      <td>0.159412</td>\n",
       "      <td>0.152178</td>\n",
       "      <td>0.139977</td>\n",
       "      <td>0.141134</td>\n",
       "      <td>0.138810</td>\n",
       "      <td>0.139977</td>\n",
       "      <td>0.155324</td>\n",
       "      <td>0.458542</td>\n",
       "      <td>1.256122</td>\n",
       "    </tr>\n",
       "    <tr>\n",
       "      <th>min</th>\n",
       "      <td>1.000000</td>\n",
       "      <td>2009.000000</td>\n",
       "      <td>80003.000000</td>\n",
       "      <td>0.000000</td>\n",
       "      <td>0.000000</td>\n",
       "      <td>0.000000</td>\n",
       "      <td>0.000000</td>\n",
       "      <td>0.000000</td>\n",
       "      <td>0.000000</td>\n",
       "      <td>0.000000</td>\n",
       "      <td>...</td>\n",
       "      <td>0.000000</td>\n",
       "      <td>0.000000</td>\n",
       "      <td>0.000000</td>\n",
       "      <td>0.000000</td>\n",
       "      <td>0.000000</td>\n",
       "      <td>0.000000</td>\n",
       "      <td>0.000000</td>\n",
       "      <td>0.000000</td>\n",
       "      <td>0.000000</td>\n",
       "      <td>4.000000</td>\n",
       "    </tr>\n",
       "    <tr>\n",
       "      <th>25%</th>\n",
       "      <td>1.000000</td>\n",
       "      <td>2010.000000</td>\n",
       "      <td>80103.000000</td>\n",
       "      <td>10.000000</td>\n",
       "      <td>1.000000</td>\n",
       "      <td>0.000000</td>\n",
       "      <td>0.000000</td>\n",
       "      <td>0.000000</td>\n",
       "      <td>0.000000</td>\n",
       "      <td>0.000000</td>\n",
       "      <td>...</td>\n",
       "      <td>0.000000</td>\n",
       "      <td>0.000000</td>\n",
       "      <td>0.000000</td>\n",
       "      <td>0.000000</td>\n",
       "      <td>0.000000</td>\n",
       "      <td>0.000000</td>\n",
       "      <td>0.000000</td>\n",
       "      <td>0.000000</td>\n",
       "      <td>0.000000</td>\n",
       "      <td>5.000000</td>\n",
       "    </tr>\n",
       "    <tr>\n",
       "      <th>50%</th>\n",
       "      <td>1.000000</td>\n",
       "      <td>2011.000000</td>\n",
       "      <td>80463.000000</td>\n",
       "      <td>15.000000</td>\n",
       "      <td>3.000000</td>\n",
       "      <td>0.000000</td>\n",
       "      <td>0.000000</td>\n",
       "      <td>0.000000</td>\n",
       "      <td>0.000000</td>\n",
       "      <td>0.000000</td>\n",
       "      <td>...</td>\n",
       "      <td>0.000000</td>\n",
       "      <td>0.000000</td>\n",
       "      <td>0.000000</td>\n",
       "      <td>0.000000</td>\n",
       "      <td>0.000000</td>\n",
       "      <td>0.000000</td>\n",
       "      <td>0.000000</td>\n",
       "      <td>0.000000</td>\n",
       "      <td>1.000000</td>\n",
       "      <td>6.000000</td>\n",
       "    </tr>\n",
       "    <tr>\n",
       "      <th>75%</th>\n",
       "      <td>3.000000</td>\n",
       "      <td>2012.000000</td>\n",
       "      <td>81403.000000</td>\n",
       "      <td>20.000000</td>\n",
       "      <td>5.000000</td>\n",
       "      <td>0.000000</td>\n",
       "      <td>0.000000</td>\n",
       "      <td>0.000000</td>\n",
       "      <td>0.000000</td>\n",
       "      <td>0.000000</td>\n",
       "      <td>...</td>\n",
       "      <td>0.000000</td>\n",
       "      <td>0.000000</td>\n",
       "      <td>0.000000</td>\n",
       "      <td>0.000000</td>\n",
       "      <td>0.000000</td>\n",
       "      <td>0.000000</td>\n",
       "      <td>0.000000</td>\n",
       "      <td>0.000000</td>\n",
       "      <td>1.000000</td>\n",
       "      <td>6.000000</td>\n",
       "    </tr>\n",
       "    <tr>\n",
       "      <th>max</th>\n",
       "      <td>323.000000</td>\n",
       "      <td>2013.000000</td>\n",
       "      <td>89803.000000</td>\n",
       "      <td>34.000000</td>\n",
       "      <td>8.000000</td>\n",
       "      <td>1.000000</td>\n",
       "      <td>1.000000</td>\n",
       "      <td>1.000000</td>\n",
       "      <td>1.000000</td>\n",
       "      <td>1.000000</td>\n",
       "      <td>...</td>\n",
       "      <td>1.000000</td>\n",
       "      <td>1.000000</td>\n",
       "      <td>1.000000</td>\n",
       "      <td>1.000000</td>\n",
       "      <td>1.000000</td>\n",
       "      <td>1.000000</td>\n",
       "      <td>1.000000</td>\n",
       "      <td>1.000000</td>\n",
       "      <td>1.000000</td>\n",
       "      <td>11.000000</td>\n",
       "    </tr>\n",
       "  </tbody>\n",
       "</table>\n",
       "<p>8 rows × 64 columns</p>\n",
       "</div>"
      ],
      "text/plain": [
       "       tumor_cell_count  year_of_diagnosis  morphology_code  smoke_units  \\\n",
       "count       2952.000000        2952.000000      2952.000000  2952.000000   \n",
       "mean           8.036924        2010.925136     80940.815718    14.992209   \n",
       "std           24.840630           1.402237      1357.411378     7.926741   \n",
       "min            1.000000        2009.000000     80003.000000     0.000000   \n",
       "25%            1.000000        2010.000000     80103.000000    10.000000   \n",
       "50%            1.000000        2011.000000     80463.000000    15.000000   \n",
       "75%            3.000000        2012.000000     81403.000000    20.000000   \n",
       "max          323.000000        2013.000000     89803.000000    34.000000   \n",
       "\n",
       "       alcohol_consume_units     symptom1     symptom2     symptom3  \\\n",
       "count            2952.000000  2952.000000  2952.000000  2952.000000   \n",
       "mean                3.258469     0.139566     0.021341     0.021680   \n",
       "std                 2.372024     0.346595     0.144544     0.145662   \n",
       "min                 0.000000     0.000000     0.000000     0.000000   \n",
       "25%                 1.000000     0.000000     0.000000     0.000000   \n",
       "50%                 3.000000     0.000000     0.000000     0.000000   \n",
       "75%                 5.000000     0.000000     0.000000     0.000000   \n",
       "max                 8.000000     1.000000     1.000000     1.000000   \n",
       "\n",
       "          symptom4     symptom5  ...    symptom59    symptom60    symptom61  \\\n",
       "count  2952.000000  2952.000000  ...  2952.000000  2952.000000  2952.000000   \n",
       "mean      0.131436     0.047425  ...     0.026423     0.026084     0.023713   \n",
       "std       0.337934     0.212583  ...     0.160416     0.159412     0.152178   \n",
       "min       0.000000     0.000000  ...     0.000000     0.000000     0.000000   \n",
       "25%       0.000000     0.000000  ...     0.000000     0.000000     0.000000   \n",
       "50%       0.000000     0.000000  ...     0.000000     0.000000     0.000000   \n",
       "75%       0.000000     0.000000  ...     0.000000     0.000000     0.000000   \n",
       "max       1.000000     1.000000  ...     1.000000     1.000000     1.000000   \n",
       "\n",
       "         symptom62    symptom63    symptom64    symptom65    symptom66  \\\n",
       "count  2952.000000  2952.000000  2952.000000  2952.000000  2952.000000   \n",
       "mean      0.019986     0.020325     0.019648     0.019986     0.024729   \n",
       "std       0.139977     0.141134     0.138810     0.139977     0.155324   \n",
       "min       0.000000     0.000000     0.000000     0.000000     0.000000   \n",
       "25%       0.000000     0.000000     0.000000     0.000000     0.000000   \n",
       "50%       0.000000     0.000000     0.000000     0.000000     0.000000   \n",
       "75%       0.000000     0.000000     0.000000     0.000000     0.000000   \n",
       "max       1.000000     1.000000     1.000000     1.000000     1.000000   \n",
       "\n",
       "       death_due_to_cancer   diag_years  \n",
       "count          2952.000000  2952.000000  \n",
       "mean              0.699526     5.882453  \n",
       "std               0.458542     1.256122  \n",
       "min               0.000000     4.000000  \n",
       "25%               0.000000     5.000000  \n",
       "50%               1.000000     6.000000  \n",
       "75%               1.000000     6.000000  \n",
       "max               1.000000    11.000000  \n",
       "\n",
       "[8 rows x 64 columns]"
      ]
     },
     "execution_count": 250,
     "metadata": {},
     "output_type": "execute_result"
    }
   ],
   "source": [
    "df_train.describe()"
   ]
  },
  {
   "cell_type": "code",
   "execution_count": 251,
   "metadata": {},
   "outputs": [
    {
     "data": {
      "text/plain": [
       "patient_id              object\n",
       "tumor_cell_count         int64\n",
       "gender                  object\n",
       "year_of_diagnosis        int64\n",
       "morphology_code          int64\n",
       "                        ...   \n",
       "symptom64              float64\n",
       "symptom65              float64\n",
       "symptom66              float64\n",
       "death_due_to_cancer      int64\n",
       "diag_years             float64\n",
       "Length: 67, dtype: object"
      ]
     },
     "execution_count": 251,
     "metadata": {},
     "output_type": "execute_result"
    }
   ],
   "source": [
    "df_train.dtypes"
   ]
  },
  {
   "cell_type": "code",
   "execution_count": 252,
   "metadata": {},
   "outputs": [
    {
     "data": {
      "text/plain": [
       "81403    554\n",
       "80103    510\n",
       "80703    406\n",
       "80003    389\n",
       "80463    323\n",
       "80413    227\n",
       "82463     62\n",
       "80123     56\n",
       "80713     53\n",
       "85603     45\n",
       "82503     43\n",
       "82403     43\n",
       "84803     24\n",
       "85503     22\n",
       "82603     21\n",
       "80423     18\n",
       "80333     14\n",
       "80453     14\n",
       "80203     13\n",
       "84813     13\n",
       "80723     11\n",
       "88003     10\n",
       "83103      9\n",
       "80223      6\n",
       "80323      6\n",
       "84303      4\n",
       "80733      4\n",
       "88103      4\n",
       "89803      4\n",
       "89723      4\n",
       "85703      4\n",
       "82513      3\n",
       "83233      2\n",
       "80013      2\n",
       "82493      2\n",
       "82443      2\n",
       "80213      2\n",
       "82113      2\n",
       "88013      2\n",
       "80313      1\n",
       "88113      1\n",
       "87203      1\n",
       "80109      1\n",
       "80303      1\n",
       "80743      1\n",
       "82003      1\n",
       "80433      1\n",
       "80443      1\n",
       "89633      1\n",
       "81409      1\n",
       "80503      1\n",
       "81233      1\n",
       "89203      1\n",
       "88903      1\n",
       "80833      1\n",
       "84903      1\n",
       "80763      1\n",
       "88023      1\n",
       "Name: morphology_code, dtype: int64"
      ]
     },
     "execution_count": 252,
     "metadata": {},
     "output_type": "execute_result"
    }
   ],
   "source": [
    "df_train.morphology_code.value_counts()"
   ]
  },
  {
   "cell_type": "code",
   "execution_count": 253,
   "metadata": {},
   "outputs": [],
   "source": [
    "y=df_train.iloc[: ,-2]"
   ]
  },
  {
   "cell_type": "code",
   "execution_count": 254,
   "metadata": {},
   "outputs": [
    {
     "data": {
      "text/plain": [
       "0       1\n",
       "1       1\n",
       "2       1\n",
       "3       1\n",
       "4       1\n",
       "       ..\n",
       "2947    1\n",
       "2948    0\n",
       "2949    0\n",
       "2950    1\n",
       "2951    1\n",
       "Name: death_due_to_cancer, Length: 2952, dtype: int64"
      ]
     },
     "execution_count": 254,
     "metadata": {},
     "output_type": "execute_result"
    }
   ],
   "source": [
    "y"
   ]
  },
  {
   "cell_type": "code",
   "execution_count": 255,
   "metadata": {},
   "outputs": [],
   "source": [
    "X=df_train.drop(['death_due_to_cancer'],axis=1)"
   ]
  },
  {
   "cell_type": "code",
   "execution_count": 256,
   "metadata": {},
   "outputs": [],
   "source": [
    "X.drop(['year_of_diagnosis'],axis=1,inplace=True)"
   ]
  },
  {
   "cell_type": "code",
   "execution_count": 257,
   "metadata": {},
   "outputs": [],
   "source": [
    "gender_male=pd.get_dummies(df_train['gender'],drop_first=True)"
   ]
  },
  {
   "cell_type": "code",
   "execution_count": 258,
   "metadata": {},
   "outputs": [],
   "source": [
    "X=pd.concat([X,gender_male],axis=1)"
   ]
  },
  {
   "cell_type": "code",
   "execution_count": 259,
   "metadata": {},
   "outputs": [],
   "source": [
    "X.drop(['gender','symptoms'],axis=1,inplace=True)"
   ]
  },
  {
   "cell_type": "code",
   "execution_count": 260,
   "metadata": {},
   "outputs": [],
   "source": [
    "train_data=X"
   ]
  },
  {
   "cell_type": "code",
   "execution_count": 261,
   "metadata": {},
   "outputs": [],
   "source": [
    "X.drop(['patient_id'],axis=1,inplace=True)"
   ]
  },
  {
   "cell_type": "code",
   "execution_count": 262,
   "metadata": {},
   "outputs": [],
   "source": [
    "from sklearn.feature_selection import SelectKBest,chi2"
   ]
  },
  {
   "cell_type": "code",
   "execution_count": 263,
   "metadata": {},
   "outputs": [],
   "source": [
    "best_10_features=SelectKBest(score_func=chi2,k=10)"
   ]
  },
  {
   "cell_type": "code",
   "execution_count": 264,
   "metadata": {},
   "outputs": [
    {
     "data": {
      "text/plain": [
       "SelectKBest(score_func=<function chi2 at 0x00000247478B4940>)"
      ]
     },
     "execution_count": 264,
     "metadata": {},
     "output_type": "execute_result"
    }
   ],
   "source": [
    "best_10_features.fit(X,y)"
   ]
  },
  {
   "cell_type": "code",
   "execution_count": 265,
   "metadata": {},
   "outputs": [
    {
     "data": {
      "text/plain": [
       "array([5.26436462e+02, 7.42896074e+02, 3.48175402e-01, 2.07290591e+00,\n",
       "       2.01345894e+00, 3.23623717e-01, 3.88622530e+00, 1.37359233e+00,\n",
       "       1.63372557e+00, 6.30411736e-02, 3.57342845e-02, 4.13900833e-01,\n",
       "       3.82492208e-01, 1.66370199e+00, 4.27343540e-02, 7.52761989e-02,\n",
       "       7.91700077e+00, 6.59610172e-01, 1.32584816e-01, 1.40785341e-02,\n",
       "       5.86414400e+00, 1.76180442e+00, 6.49800497e+00, 2.78255216e+00,\n",
       "       9.80749133e-02, 4.77655410e+00, 4.88616775e-01, 1.32301282e+00,\n",
       "       1.25846973e+00, 1.25846973e+00, 1.18412037e-01, 3.52400419e+00,\n",
       "       1.71962643e-01, 3.69790708e-01, 8.43849406e-03, 3.71326946e-04,\n",
       "       1.23305010e-03, 4.92562381e-03, 5.98310315e-01, 1.05812652e+00,\n",
       "       7.27243941e-01, 1.01751100e+00, 3.74130220e-01, 1.25846973e+00,\n",
       "       1.83535819e+00, 1.86059402e-01, 2.21331049e+00, 4.61351185e-01,\n",
       "       9.84579023e-02, 1.25101733e+00, 4.31233520e-01, 3.62245157e-01,\n",
       "       1.66782987e+00, 1.16477259e-02, 2.14560063e-01, 6.25305810e-01,\n",
       "       1.30474066e-01, 1.25071020e+00, 9.63646350e-01, 6.00094589e-01,\n",
       "       2.43925826e-01, 8.81907426e-01, 1.28084984e+00])"
      ]
     },
     "execution_count": 265,
     "metadata": {},
     "output_type": "execute_result"
    }
   ],
   "source": [
    "best_10_features.scores_"
   ]
  },
  {
   "cell_type": "code",
   "execution_count": 266,
   "metadata": {},
   "outputs": [],
   "source": [
    "df1=pd.DataFrame(best_10_features.scores_,index=X.columns,columns=['scores'])"
   ]
  },
  {
   "cell_type": "code",
   "execution_count": 267,
   "metadata": {},
   "outputs": [
    {
     "data": {
      "text/html": [
       "<div>\n",
       "<style scoped>\n",
       "    .dataframe tbody tr th:only-of-type {\n",
       "        vertical-align: middle;\n",
       "    }\n",
       "\n",
       "    .dataframe tbody tr th {\n",
       "        vertical-align: top;\n",
       "    }\n",
       "\n",
       "    .dataframe thead th {\n",
       "        text-align: right;\n",
       "    }\n",
       "</style>\n",
       "<table border=\"1\" class=\"dataframe\">\n",
       "  <thead>\n",
       "    <tr style=\"text-align: right;\">\n",
       "      <th></th>\n",
       "      <th>scores</th>\n",
       "    </tr>\n",
       "  </thead>\n",
       "  <tbody>\n",
       "    <tr>\n",
       "      <th>tumor_cell_count</th>\n",
       "      <td>526.436462</td>\n",
       "    </tr>\n",
       "    <tr>\n",
       "      <th>morphology_code</th>\n",
       "      <td>742.896074</td>\n",
       "    </tr>\n",
       "    <tr>\n",
       "      <th>smoke_units</th>\n",
       "      <td>0.348175</td>\n",
       "    </tr>\n",
       "    <tr>\n",
       "      <th>alcohol_consume_units</th>\n",
       "      <td>2.072906</td>\n",
       "    </tr>\n",
       "    <tr>\n",
       "      <th>symptom1</th>\n",
       "      <td>2.013459</td>\n",
       "    </tr>\n",
       "    <tr>\n",
       "      <th>...</th>\n",
       "      <td>...</td>\n",
       "    </tr>\n",
       "    <tr>\n",
       "      <th>symptom64</th>\n",
       "      <td>0.963646</td>\n",
       "    </tr>\n",
       "    <tr>\n",
       "      <th>symptom65</th>\n",
       "      <td>0.600095</td>\n",
       "    </tr>\n",
       "    <tr>\n",
       "      <th>symptom66</th>\n",
       "      <td>0.243926</td>\n",
       "    </tr>\n",
       "    <tr>\n",
       "      <th>diag_years</th>\n",
       "      <td>0.881907</td>\n",
       "    </tr>\n",
       "    <tr>\n",
       "      <th>Male</th>\n",
       "      <td>1.280850</td>\n",
       "    </tr>\n",
       "  </tbody>\n",
       "</table>\n",
       "<p>63 rows × 1 columns</p>\n",
       "</div>"
      ],
      "text/plain": [
       "                           scores\n",
       "tumor_cell_count       526.436462\n",
       "morphology_code        742.896074\n",
       "smoke_units              0.348175\n",
       "alcohol_consume_units    2.072906\n",
       "symptom1                 2.013459\n",
       "...                           ...\n",
       "symptom64                0.963646\n",
       "symptom65                0.600095\n",
       "symptom66                0.243926\n",
       "diag_years               0.881907\n",
       "Male                     1.280850\n",
       "\n",
       "[63 rows x 1 columns]"
      ]
     },
     "execution_count": 267,
     "metadata": {},
     "output_type": "execute_result"
    }
   ],
   "source": [
    "df1"
   ]
  },
  {
   "cell_type": "code",
   "execution_count": 268,
   "metadata": {},
   "outputs": [],
   "source": [
    "from sklearn.preprocessing import StandardScaler\n",
    "scaler=StandardScaler()\n",
    "X_train=scaler.fit_transform(X_train)\n",
    "X_test=scaler.fit_transform(X_test)"
   ]
  },
  {
   "cell_type": "code",
   "execution_count": 269,
   "metadata": {},
   "outputs": [],
   "source": [
    "from sklearn.model_selection import train_test_split\n",
    "X_train, X_test, y_train, y_test = train_test_split(X, y, test_size = 0.2, random_state = 42)"
   ]
  },
  {
   "cell_type": "code",
   "execution_count": 270,
   "metadata": {},
   "outputs": [
    {
     "data": {
      "text/plain": [
       "LogisticRegression()"
      ]
     },
     "execution_count": 270,
     "metadata": {},
     "output_type": "execute_result"
    }
   ],
   "source": [
    "from sklearn.linear_model import LogisticRegression\n",
    "from sklearn.svm import SVC\n",
    "lr=LogisticRegression()\n",
    "lr.fit(X_train, y_train)"
   ]
  },
  {
   "cell_type": "code",
   "execution_count": 271,
   "metadata": {},
   "outputs": [],
   "source": [
    "y_pred = lr.predict(X_test)"
   ]
  },
  {
   "cell_type": "code",
   "execution_count": 272,
   "metadata": {},
   "outputs": [
    {
     "data": {
      "text/plain": [
       "0.6785109983079526"
      ]
     },
     "execution_count": 272,
     "metadata": {},
     "output_type": "execute_result"
    }
   ],
   "source": [
    "lr.score(X_test, y_test)"
   ]
  },
  {
   "cell_type": "code",
   "execution_count": 273,
   "metadata": {},
   "outputs": [
    {
     "data": {
      "text/plain": [
       "0.6785109983079526"
      ]
     },
     "execution_count": 273,
     "metadata": {},
     "output_type": "execute_result"
    }
   ],
   "source": [
    "accuracy_score(y_test,y_pred)"
   ]
  },
  {
   "cell_type": "code",
   "execution_count": 274,
   "metadata": {},
   "outputs": [],
   "source": [
    "svms=SVC()\n",
    "svms.fit(X_train,y_train)\n",
    "y_pred=svms.predict(X_test)"
   ]
  },
  {
   "cell_type": "code",
   "execution_count": 275,
   "metadata": {},
   "outputs": [
    {
     "data": {
      "text/plain": [
       "0.6852791878172588"
      ]
     },
     "execution_count": 275,
     "metadata": {},
     "output_type": "execute_result"
    }
   ],
   "source": [
    "svms.score(X_test, y_test)"
   ]
  },
  {
   "cell_type": "code",
   "execution_count": 276,
   "metadata": {},
   "outputs": [
    {
     "data": {
      "text/plain": [
       "0.6852791878172588"
      ]
     },
     "execution_count": 276,
     "metadata": {},
     "output_type": "execute_result"
    }
   ],
   "source": [
    "accuracy_score(y_test,y_pred)"
   ]
  },
  {
   "cell_type": "code",
   "execution_count": 277,
   "metadata": {},
   "outputs": [
    {
     "data": {
      "text/plain": [
       "RandomForestClassifier()"
      ]
     },
     "execution_count": 277,
     "metadata": {},
     "output_type": "execute_result"
    }
   ],
   "source": [
    "from sklearn.ensemble import RandomForestClassifier\n",
    "reg_rf = RandomForestClassifier()\n",
    "reg_rf.fit(X_train, y_train)"
   ]
  },
  {
   "cell_type": "code",
   "execution_count": 278,
   "metadata": {},
   "outputs": [],
   "source": [
    "y_pred = reg_rf.predict(X_test)"
   ]
  },
  {
   "cell_type": "code",
   "execution_count": 279,
   "metadata": {},
   "outputs": [
    {
     "data": {
      "text/plain": [
       "0.9987293519695044"
      ]
     },
     "execution_count": 279,
     "metadata": {},
     "output_type": "execute_result"
    }
   ],
   "source": [
    "reg_rf.score(X_train, y_train)"
   ]
  },
  {
   "cell_type": "code",
   "execution_count": 280,
   "metadata": {},
   "outputs": [
    {
     "data": {
      "text/plain": [
       "0.700507614213198"
      ]
     },
     "execution_count": 280,
     "metadata": {},
     "output_type": "execute_result"
    }
   ],
   "source": [
    "reg_rf.score(X_test, y_test)"
   ]
  },
  {
   "cell_type": "code",
   "execution_count": 281,
   "metadata": {},
   "outputs": [],
   "source": [
    "from sklearn.metrics import confusion_matrix,accuracy_score,recall_score,f1_score,r2_score"
   ]
  },
  {
   "cell_type": "code",
   "execution_count": 282,
   "metadata": {},
   "outputs": [
    {
     "data": {
      "text/plain": [
       "0.700507614213198"
      ]
     },
     "execution_count": 282,
     "metadata": {},
     "output_type": "execute_result"
    }
   ],
   "source": [
    "accuracy_score(y_test,y_pred)"
   ]
  },
  {
   "cell_type": "code",
   "execution_count": 283,
   "metadata": {},
   "outputs": [
    {
     "data": {
      "text/plain": [
       "array([[ 57, 129],\n",
       "       [ 48, 357]], dtype=int64)"
      ]
     },
     "execution_count": 283,
     "metadata": {},
     "output_type": "execute_result"
    }
   ],
   "source": [
    "confusion_matrix(y_test,y_pred)"
   ]
  },
  {
   "cell_type": "code",
   "execution_count": 284,
   "metadata": {},
   "outputs": [
    {
     "data": {
      "text/plain": [
       "0.8814814814814815"
      ]
     },
     "execution_count": 284,
     "metadata": {},
     "output_type": "execute_result"
    }
   ],
   "source": [
    "recall_score(y_test,y_pred)"
   ]
  },
  {
   "cell_type": "code",
   "execution_count": 285,
   "metadata": {},
   "outputs": [],
   "source": [
    "score=100*f1_score(y_test,y_pred)"
   ]
  },
  {
   "cell_type": "code",
   "execution_count": 205,
   "metadata": {},
   "outputs": [
    {
     "data": {
      "text/plain": [
       "80.26607538802661"
      ]
     },
     "execution_count": 205,
     "metadata": {},
     "output_type": "execute_result"
    }
   ],
   "source": [
    "score"
   ]
  },
  {
   "cell_type": "code",
   "execution_count": 286,
   "metadata": {},
   "outputs": [],
   "source": [
    "patient_id=df_test['patient_id']"
   ]
  },
  {
   "cell_type": "code",
   "execution_count": null,
   "metadata": {},
   "outputs": [],
   "source": []
  },
  {
   "cell_type": "code",
   "execution_count": 287,
   "metadata": {},
   "outputs": [],
   "source": [
    "df_test.drop(['patient_id','year_of_diagnosis','symptoms'],axis=1,inplace=True)"
   ]
  },
  {
   "cell_type": "code",
   "execution_count": 288,
   "metadata": {},
   "outputs": [],
   "source": [
    "male=pd.get_dummies(df_test['gender'],drop_first=True)"
   ]
  },
  {
   "cell_type": "code",
   "execution_count": 289,
   "metadata": {},
   "outputs": [],
   "source": [
    "df_test=pd.concat([df_test,male],axis=1)"
   ]
  },
  {
   "cell_type": "code",
   "execution_count": 290,
   "metadata": {},
   "outputs": [],
   "source": [
    "df_test.drop(['gender'],axis=1,inplace=True)"
   ]
  },
  {
   "cell_type": "code",
   "execution_count": 291,
   "metadata": {},
   "outputs": [
    {
     "data": {
      "text/html": [
       "<div>\n",
       "<style scoped>\n",
       "    .dataframe tbody tr th:only-of-type {\n",
       "        vertical-align: middle;\n",
       "    }\n",
       "\n",
       "    .dataframe tbody tr th {\n",
       "        vertical-align: top;\n",
       "    }\n",
       "\n",
       "    .dataframe thead th {\n",
       "        text-align: right;\n",
       "    }\n",
       "</style>\n",
       "<table border=\"1\" class=\"dataframe\">\n",
       "  <thead>\n",
       "    <tr style=\"text-align: right;\">\n",
       "      <th></th>\n",
       "      <th>tumor_cell_count</th>\n",
       "      <th>morphology_code</th>\n",
       "      <th>smoke_units</th>\n",
       "      <th>alcohol_consume_units</th>\n",
       "      <th>symptom1</th>\n",
       "      <th>symptom2</th>\n",
       "      <th>symptom3</th>\n",
       "      <th>symptom4</th>\n",
       "      <th>symptom5</th>\n",
       "      <th>symptom6</th>\n",
       "      <th>...</th>\n",
       "      <th>symptom59</th>\n",
       "      <th>symptom60</th>\n",
       "      <th>symptom61</th>\n",
       "      <th>symptom62</th>\n",
       "      <th>symptom63</th>\n",
       "      <th>symptom64</th>\n",
       "      <th>symptom65</th>\n",
       "      <th>symptom66</th>\n",
       "      <th>diag_years</th>\n",
       "      <th>Male</th>\n",
       "    </tr>\n",
       "  </thead>\n",
       "  <tbody>\n",
       "    <tr>\n",
       "      <th>0</th>\n",
       "      <td>1</td>\n",
       "      <td>80003</td>\n",
       "      <td>25</td>\n",
       "      <td>4</td>\n",
       "      <td>0.0</td>\n",
       "      <td>0.0</td>\n",
       "      <td>0.0</td>\n",
       "      <td>0.0</td>\n",
       "      <td>0.0</td>\n",
       "      <td>1.0</td>\n",
       "      <td>...</td>\n",
       "      <td>0.0</td>\n",
       "      <td>0.0</td>\n",
       "      <td>0.0</td>\n",
       "      <td>0.0</td>\n",
       "      <td>0.0</td>\n",
       "      <td>0.0</td>\n",
       "      <td>0.0</td>\n",
       "      <td>0.0</td>\n",
       "      <td>5.0</td>\n",
       "      <td>1</td>\n",
       "    </tr>\n",
       "    <tr>\n",
       "      <th>1</th>\n",
       "      <td>1</td>\n",
       "      <td>82503</td>\n",
       "      <td>12</td>\n",
       "      <td>3</td>\n",
       "      <td>0.0</td>\n",
       "      <td>0.0</td>\n",
       "      <td>0.0</td>\n",
       "      <td>0.0</td>\n",
       "      <td>0.0</td>\n",
       "      <td>0.0</td>\n",
       "      <td>...</td>\n",
       "      <td>0.0</td>\n",
       "      <td>0.0</td>\n",
       "      <td>0.0</td>\n",
       "      <td>0.0</td>\n",
       "      <td>0.0</td>\n",
       "      <td>0.0</td>\n",
       "      <td>0.0</td>\n",
       "      <td>0.0</td>\n",
       "      <td>7.0</td>\n",
       "      <td>1</td>\n",
       "    </tr>\n",
       "    <tr>\n",
       "      <th>2</th>\n",
       "      <td>1</td>\n",
       "      <td>80703</td>\n",
       "      <td>3</td>\n",
       "      <td>6</td>\n",
       "      <td>0.0</td>\n",
       "      <td>0.0</td>\n",
       "      <td>0.0</td>\n",
       "      <td>0.0</td>\n",
       "      <td>0.0</td>\n",
       "      <td>0.0</td>\n",
       "      <td>...</td>\n",
       "      <td>0.0</td>\n",
       "      <td>0.0</td>\n",
       "      <td>0.0</td>\n",
       "      <td>0.0</td>\n",
       "      <td>0.0</td>\n",
       "      <td>0.0</td>\n",
       "      <td>0.0</td>\n",
       "      <td>0.0</td>\n",
       "      <td>4.0</td>\n",
       "      <td>1</td>\n",
       "    </tr>\n",
       "    <tr>\n",
       "      <th>3</th>\n",
       "      <td>1</td>\n",
       "      <td>80103</td>\n",
       "      <td>20</td>\n",
       "      <td>0</td>\n",
       "      <td>1.0</td>\n",
       "      <td>0.0</td>\n",
       "      <td>0.0</td>\n",
       "      <td>0.0</td>\n",
       "      <td>0.0</td>\n",
       "      <td>0.0</td>\n",
       "      <td>...</td>\n",
       "      <td>0.0</td>\n",
       "      <td>0.0</td>\n",
       "      <td>0.0</td>\n",
       "      <td>0.0</td>\n",
       "      <td>0.0</td>\n",
       "      <td>0.0</td>\n",
       "      <td>0.0</td>\n",
       "      <td>0.0</td>\n",
       "      <td>5.0</td>\n",
       "      <td>1</td>\n",
       "    </tr>\n",
       "    <tr>\n",
       "      <th>4</th>\n",
       "      <td>1</td>\n",
       "      <td>80003</td>\n",
       "      <td>25</td>\n",
       "      <td>8</td>\n",
       "      <td>0.0</td>\n",
       "      <td>0.0</td>\n",
       "      <td>0.0</td>\n",
       "      <td>0.0</td>\n",
       "      <td>0.0</td>\n",
       "      <td>0.0</td>\n",
       "      <td>...</td>\n",
       "      <td>0.0</td>\n",
       "      <td>0.0</td>\n",
       "      <td>0.0</td>\n",
       "      <td>0.0</td>\n",
       "      <td>0.0</td>\n",
       "      <td>0.0</td>\n",
       "      <td>0.0</td>\n",
       "      <td>0.0</td>\n",
       "      <td>6.0</td>\n",
       "      <td>1</td>\n",
       "    </tr>\n",
       "    <tr>\n",
       "      <th>...</th>\n",
       "      <td>...</td>\n",
       "      <td>...</td>\n",
       "      <td>...</td>\n",
       "      <td>...</td>\n",
       "      <td>...</td>\n",
       "      <td>...</td>\n",
       "      <td>...</td>\n",
       "      <td>...</td>\n",
       "      <td>...</td>\n",
       "      <td>...</td>\n",
       "      <td>...</td>\n",
       "      <td>...</td>\n",
       "      <td>...</td>\n",
       "      <td>...</td>\n",
       "      <td>...</td>\n",
       "      <td>...</td>\n",
       "      <td>...</td>\n",
       "      <td>...</td>\n",
       "      <td>...</td>\n",
       "      <td>...</td>\n",
       "      <td>...</td>\n",
       "    </tr>\n",
       "    <tr>\n",
       "      <th>1964</th>\n",
       "      <td>1</td>\n",
       "      <td>82503</td>\n",
       "      <td>15</td>\n",
       "      <td>6</td>\n",
       "      <td>0.0</td>\n",
       "      <td>0.0</td>\n",
       "      <td>0.0</td>\n",
       "      <td>0.0</td>\n",
       "      <td>0.0</td>\n",
       "      <td>0.0</td>\n",
       "      <td>...</td>\n",
       "      <td>0.0</td>\n",
       "      <td>0.0</td>\n",
       "      <td>0.0</td>\n",
       "      <td>0.0</td>\n",
       "      <td>0.0</td>\n",
       "      <td>0.0</td>\n",
       "      <td>0.0</td>\n",
       "      <td>0.0</td>\n",
       "      <td>9.0</td>\n",
       "      <td>0</td>\n",
       "    </tr>\n",
       "    <tr>\n",
       "      <th>1965</th>\n",
       "      <td>1</td>\n",
       "      <td>81403</td>\n",
       "      <td>3</td>\n",
       "      <td>3</td>\n",
       "      <td>1.0</td>\n",
       "      <td>0.0</td>\n",
       "      <td>0.0</td>\n",
       "      <td>0.0</td>\n",
       "      <td>0.0</td>\n",
       "      <td>0.0</td>\n",
       "      <td>...</td>\n",
       "      <td>0.0</td>\n",
       "      <td>0.0</td>\n",
       "      <td>0.0</td>\n",
       "      <td>0.0</td>\n",
       "      <td>0.0</td>\n",
       "      <td>0.0</td>\n",
       "      <td>0.0</td>\n",
       "      <td>0.0</td>\n",
       "      <td>6.0</td>\n",
       "      <td>1</td>\n",
       "    </tr>\n",
       "    <tr>\n",
       "      <th>1966</th>\n",
       "      <td>1</td>\n",
       "      <td>81403</td>\n",
       "      <td>10</td>\n",
       "      <td>6</td>\n",
       "      <td>0.0</td>\n",
       "      <td>0.0</td>\n",
       "      <td>0.0</td>\n",
       "      <td>0.0</td>\n",
       "      <td>0.0</td>\n",
       "      <td>0.0</td>\n",
       "      <td>...</td>\n",
       "      <td>0.0</td>\n",
       "      <td>1.0</td>\n",
       "      <td>0.0</td>\n",
       "      <td>0.0</td>\n",
       "      <td>0.0</td>\n",
       "      <td>0.0</td>\n",
       "      <td>0.0</td>\n",
       "      <td>0.0</td>\n",
       "      <td>5.0</td>\n",
       "      <td>0</td>\n",
       "    </tr>\n",
       "    <tr>\n",
       "      <th>1967</th>\n",
       "      <td>1</td>\n",
       "      <td>80463</td>\n",
       "      <td>10</td>\n",
       "      <td>2</td>\n",
       "      <td>0.0</td>\n",
       "      <td>0.0</td>\n",
       "      <td>0.0</td>\n",
       "      <td>0.0</td>\n",
       "      <td>0.0</td>\n",
       "      <td>0.0</td>\n",
       "      <td>...</td>\n",
       "      <td>0.0</td>\n",
       "      <td>0.0</td>\n",
       "      <td>0.0</td>\n",
       "      <td>0.0</td>\n",
       "      <td>0.0</td>\n",
       "      <td>0.0</td>\n",
       "      <td>0.0</td>\n",
       "      <td>0.0</td>\n",
       "      <td>5.0</td>\n",
       "      <td>0</td>\n",
       "    </tr>\n",
       "    <tr>\n",
       "      <th>1968</th>\n",
       "      <td>3</td>\n",
       "      <td>80103</td>\n",
       "      <td>34</td>\n",
       "      <td>8</td>\n",
       "      <td>0.0</td>\n",
       "      <td>0.0</td>\n",
       "      <td>0.0</td>\n",
       "      <td>0.0</td>\n",
       "      <td>0.0</td>\n",
       "      <td>0.0</td>\n",
       "      <td>...</td>\n",
       "      <td>0.0</td>\n",
       "      <td>0.0</td>\n",
       "      <td>0.0</td>\n",
       "      <td>0.0</td>\n",
       "      <td>0.0</td>\n",
       "      <td>0.0</td>\n",
       "      <td>0.0</td>\n",
       "      <td>0.0</td>\n",
       "      <td>5.0</td>\n",
       "      <td>0</td>\n",
       "    </tr>\n",
       "  </tbody>\n",
       "</table>\n",
       "<p>1969 rows × 63 columns</p>\n",
       "</div>"
      ],
      "text/plain": [
       "      tumor_cell_count  morphology_code  smoke_units  alcohol_consume_units  \\\n",
       "0                    1            80003           25                      4   \n",
       "1                    1            82503           12                      3   \n",
       "2                    1            80703            3                      6   \n",
       "3                    1            80103           20                      0   \n",
       "4                    1            80003           25                      8   \n",
       "...                ...              ...          ...                    ...   \n",
       "1964                 1            82503           15                      6   \n",
       "1965                 1            81403            3                      3   \n",
       "1966                 1            81403           10                      6   \n",
       "1967                 1            80463           10                      2   \n",
       "1968                 3            80103           34                      8   \n",
       "\n",
       "      symptom1  symptom2  symptom3  symptom4  symptom5  symptom6  ...  \\\n",
       "0          0.0       0.0       0.0       0.0       0.0       1.0  ...   \n",
       "1          0.0       0.0       0.0       0.0       0.0       0.0  ...   \n",
       "2          0.0       0.0       0.0       0.0       0.0       0.0  ...   \n",
       "3          1.0       0.0       0.0       0.0       0.0       0.0  ...   \n",
       "4          0.0       0.0       0.0       0.0       0.0       0.0  ...   \n",
       "...        ...       ...       ...       ...       ...       ...  ...   \n",
       "1964       0.0       0.0       0.0       0.0       0.0       0.0  ...   \n",
       "1965       1.0       0.0       0.0       0.0       0.0       0.0  ...   \n",
       "1966       0.0       0.0       0.0       0.0       0.0       0.0  ...   \n",
       "1967       0.0       0.0       0.0       0.0       0.0       0.0  ...   \n",
       "1968       0.0       0.0       0.0       0.0       0.0       0.0  ...   \n",
       "\n",
       "      symptom59  symptom60  symptom61  symptom62  symptom63  symptom64  \\\n",
       "0           0.0        0.0        0.0        0.0        0.0        0.0   \n",
       "1           0.0        0.0        0.0        0.0        0.0        0.0   \n",
       "2           0.0        0.0        0.0        0.0        0.0        0.0   \n",
       "3           0.0        0.0        0.0        0.0        0.0        0.0   \n",
       "4           0.0        0.0        0.0        0.0        0.0        0.0   \n",
       "...         ...        ...        ...        ...        ...        ...   \n",
       "1964        0.0        0.0        0.0        0.0        0.0        0.0   \n",
       "1965        0.0        0.0        0.0        0.0        0.0        0.0   \n",
       "1966        0.0        1.0        0.0        0.0        0.0        0.0   \n",
       "1967        0.0        0.0        0.0        0.0        0.0        0.0   \n",
       "1968        0.0        0.0        0.0        0.0        0.0        0.0   \n",
       "\n",
       "      symptom65  symptom66  diag_years  Male  \n",
       "0           0.0        0.0         5.0     1  \n",
       "1           0.0        0.0         7.0     1  \n",
       "2           0.0        0.0         4.0     1  \n",
       "3           0.0        0.0         5.0     1  \n",
       "4           0.0        0.0         6.0     1  \n",
       "...         ...        ...         ...   ...  \n",
       "1964        0.0        0.0         9.0     0  \n",
       "1965        0.0        0.0         6.0     1  \n",
       "1966        0.0        0.0         5.0     0  \n",
       "1967        0.0        0.0         5.0     0  \n",
       "1968        0.0        0.0         5.0     0  \n",
       "\n",
       "[1969 rows x 63 columns]"
      ]
     },
     "execution_count": 291,
     "metadata": {},
     "output_type": "execute_result"
    }
   ],
   "source": [
    "df_test"
   ]
  },
  {
   "cell_type": "code",
   "execution_count": 292,
   "metadata": {},
   "outputs": [],
   "source": [
    "df_test.fillna(0,inplace=True)"
   ]
  },
  {
   "cell_type": "code",
   "execution_count": 293,
   "metadata": {},
   "outputs": [],
   "source": [
    "y_test_pred=reg_rf.predict(df_test)"
   ]
  },
  {
   "cell_type": "code",
   "execution_count": 296,
   "metadata": {},
   "outputs": [],
   "source": [
    "df = pd.DataFrame(y_test_pred, columns = ['predictions'])"
   ]
  },
  {
   "cell_type": "code",
   "execution_count": 297,
   "metadata": {},
   "outputs": [],
   "source": [
    "predictions_test_data=pd.concat([patient_id,df],axis=1)"
   ]
  },
  {
   "cell_type": "code",
   "execution_count": 299,
   "metadata": {},
   "outputs": [],
   "source": [
    "predictions_test_data.rename(columns = {'predictions':'death_due_to_cancer'}, inplace = True)"
   ]
  },
  {
   "cell_type": "code",
   "execution_count": 300,
   "metadata": {},
   "outputs": [
    {
     "data": {
      "text/html": [
       "<div>\n",
       "<style scoped>\n",
       "    .dataframe tbody tr th:only-of-type {\n",
       "        vertical-align: middle;\n",
       "    }\n",
       "\n",
       "    .dataframe tbody tr th {\n",
       "        vertical-align: top;\n",
       "    }\n",
       "\n",
       "    .dataframe thead th {\n",
       "        text-align: right;\n",
       "    }\n",
       "</style>\n",
       "<table border=\"1\" class=\"dataframe\">\n",
       "  <thead>\n",
       "    <tr style=\"text-align: right;\">\n",
       "      <th></th>\n",
       "      <th>patient_id</th>\n",
       "      <th>death_due_to_cancer</th>\n",
       "    </tr>\n",
       "  </thead>\n",
       "  <tbody>\n",
       "    <tr>\n",
       "      <th>0</th>\n",
       "      <td>TCBA-B8-0x7e9</td>\n",
       "      <td>1</td>\n",
       "    </tr>\n",
       "    <tr>\n",
       "      <th>1</th>\n",
       "      <td>TCBA-B8-0x6bc</td>\n",
       "      <td>1</td>\n",
       "    </tr>\n",
       "    <tr>\n",
       "      <th>2</th>\n",
       "      <td>TCBA-B8-0x1195</td>\n",
       "      <td>1</td>\n",
       "    </tr>\n",
       "    <tr>\n",
       "      <th>3</th>\n",
       "      <td>TCBA-B8-0x8a5</td>\n",
       "      <td>1</td>\n",
       "    </tr>\n",
       "    <tr>\n",
       "      <th>4</th>\n",
       "      <td>TCBA-B8-0xa21</td>\n",
       "      <td>1</td>\n",
       "    </tr>\n",
       "    <tr>\n",
       "      <th>...</th>\n",
       "      <td>...</td>\n",
       "      <td>...</td>\n",
       "    </tr>\n",
       "    <tr>\n",
       "      <th>1964</th>\n",
       "      <td>TCBA-B8-0xc5f</td>\n",
       "      <td>1</td>\n",
       "    </tr>\n",
       "    <tr>\n",
       "      <th>1965</th>\n",
       "      <td>TCBA-B8-0x267</td>\n",
       "      <td>0</td>\n",
       "    </tr>\n",
       "    <tr>\n",
       "      <th>1966</th>\n",
       "      <td>TCBA-B8-0xce9</td>\n",
       "      <td>1</td>\n",
       "    </tr>\n",
       "    <tr>\n",
       "      <th>1967</th>\n",
       "      <td>TCBA-B8-0xc20</td>\n",
       "      <td>1</td>\n",
       "    </tr>\n",
       "    <tr>\n",
       "      <th>1968</th>\n",
       "      <td>TCBA-B8-0x742</td>\n",
       "      <td>1</td>\n",
       "    </tr>\n",
       "  </tbody>\n",
       "</table>\n",
       "<p>1969 rows × 2 columns</p>\n",
       "</div>"
      ],
      "text/plain": [
       "          patient_id  death_due_to_cancer\n",
       "0      TCBA-B8-0x7e9                    1\n",
       "1      TCBA-B8-0x6bc                    1\n",
       "2     TCBA-B8-0x1195                    1\n",
       "3      TCBA-B8-0x8a5                    1\n",
       "4      TCBA-B8-0xa21                    1\n",
       "...              ...                  ...\n",
       "1964   TCBA-B8-0xc5f                    1\n",
       "1965   TCBA-B8-0x267                    0\n",
       "1966   TCBA-B8-0xce9                    1\n",
       "1967   TCBA-B8-0xc20                    1\n",
       "1968   TCBA-B8-0x742                    1\n",
       "\n",
       "[1969 rows x 2 columns]"
      ]
     },
     "execution_count": 300,
     "metadata": {},
     "output_type": "execute_result"
    }
   ],
   "source": [
    "predictions_test_data"
   ]
  },
  {
   "cell_type": "code",
   "execution_count": 301,
   "metadata": {},
   "outputs": [],
   "source": [
    "predictions_test_data.to_csv('cancer_pred.csv')"
   ]
  },
  {
   "cell_type": "code",
   "execution_count": null,
   "metadata": {},
   "outputs": [],
   "source": []
  }
 ],
 "metadata": {
  "kernelspec": {
   "display_name": "Python 3",
   "language": "python",
   "name": "python3"
  },
  "language_info": {
   "codemirror_mode": {
    "name": "ipython",
    "version": 3
   },
   "file_extension": ".py",
   "mimetype": "text/x-python",
   "name": "python",
   "nbconvert_exporter": "python",
   "pygments_lexer": "ipython3",
   "version": "3.8.3"
  }
 },
 "nbformat": 4,
 "nbformat_minor": 4
}
